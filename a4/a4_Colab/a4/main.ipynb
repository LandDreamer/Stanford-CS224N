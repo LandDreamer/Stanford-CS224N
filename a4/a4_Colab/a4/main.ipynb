{
 "cells": [
  {
   "cell_type": "markdown",
   "metadata": {},
   "source": [
    "Part 1"
   ]
  },
  {
   "cell_type": "markdown",
   "metadata": {},
   "source": [
    "Homwork (d)"
   ]
  },
  {
   "cell_type": "code",
   "execution_count": 3,
   "metadata": {},
   "outputs": [
    {
     "output_type": "stream",
     "name": "stdout",
     "text": "Running Sanity Check for Question 1d: Encode\n--------------------------------------------------------------------------------\nenc_hiddens Sanity Checks Passed!\ndec_init_state[0] Sanity Checks Passed!\ndec_init_state[1] Sanity Checks Passed!\n--------------------------------------------------------------------------------\nAll Sanity Checks Passed for Question 1d: Encode!\n--------------------------------------------------------------------------------\n"
    }
   ],
   "source": [
    "!python sanity_check.py 1d"
   ]
  },
  {
   "cell_type": "markdown",
   "metadata": {},
   "source": [
    "Homework (e)"
   ]
  },
  {
   "cell_type": "code",
   "execution_count": 3,
   "metadata": {},
   "outputs": [
    {
     "output_type": "stream",
     "name": "stdout",
     "text": "--------------------------------------------------------------------------------\nRunning Sanity Check for Question 1e: Decode\n--------------------------------------------------------------------------------\ncombined_outputs Sanity Checks Passed!\n--------------------------------------------------------------------------------\nAll Sanity Checks Passed for Question 1e: Decode!\n--------------------------------------------------------------------------------\n"
    }
   ],
   "source": [
    "!python sanity_check.py 1e"
   ]
  },
  {
   "cell_type": "markdown",
   "metadata": {},
   "source": [
    "Homework (f)"
   ]
  },
  {
   "cell_type": "code",
   "execution_count": 2,
   "metadata": {},
   "outputs": [
    {
     "output_type": "stream",
     "name": "stdout",
     "text": "--------------------------------------------------------------------------------\nRunning Sanity Check for Question 1f: Step\n--------------------------------------------------------------------------------\ndec_state[0] Sanity Checks Passed!\ndec_state[1] Sanity Checks Passed!\ncombined_output  Sanity Checks Passed!\ne_t Sanity Checks Passed!\n--------------------------------------------------------------------------------\nAll Sanity Checks Passed for Question 1f: Step!\n--------------------------------------------------------------------------------\n"
    }
   ],
   "source": [
    "!python sanity_check.py 1f"
   ]
  },
  {
   "cell_type": "markdown",
   "metadata": {},
   "source": [
    "Run"
   ]
  }
 ],
 "metadata": {
  "language_info": {
   "codemirror_mode": {
    "name": "ipython",
    "version": 3
   },
   "file_extension": ".py",
   "mimetype": "text/x-python",
   "name": "python",
   "nbconvert_exporter": "python",
   "pygments_lexer": "ipython3",
   "version": "3.7.4-final"
  },
  "orig_nbformat": 2,
  "kernelspec": {
   "name": "python3",
   "display_name": "Python 3"
  }
 },
 "nbformat": 4,
 "nbformat_minor": 2
}