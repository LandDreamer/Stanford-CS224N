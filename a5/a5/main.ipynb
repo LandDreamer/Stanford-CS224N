{
 "cells": [
  {
   "cell_type": "code",
   "execution_count": 3,
   "metadata": {},
   "outputs": [
    {
     "output_type": "stream",
     "name": "stdout",
     "text": "--------------------------------------------------------------------------------\nRunning Sanity Check for Question 1e: To Input Tensor Char\n--------------------------------------------------------------------------------\nRunning test on a list of sentences\nSanity Check Passed for Question 1e: To Input Tensor Char!\n--------------------------------------------------------------------------------\n"
    }
   ],
   "source": [
    "!python sanity_check.py 1e"
   ]
  },
  {
   "cell_type": "code",
   "execution_count": 4,
   "metadata": {},
   "outputs": [
    {
     "output_type": "stream",
     "name": "stdout",
     "text": "--------------------------------------------------------------------------------\nRunning Sanity Check for Question 1h: Model Embedding\n--------------------------------------------------------------------------------\nSanity Check Passed for Question 1h: Model Embedding!\n--------------------------------------------------------------------------------\n"
    }
   ],
   "source": [
    "!python sanity_check.py 1h"
   ]
  },
  {
   "cell_type": "code",
   "execution_count": 1,
   "metadata": {},
   "outputs": [
    {
     "output_type": "stream",
     "name": "stdout",
     "text": "--------------------------------------------------------------------------------\nRunning Sanity Check for Question 2a: CharDecoder.forward()\n--------------------------------------------------------------------------------\nSanity Check Passed for Question 2a: CharDecoder.forward()!\n--------------------------------------------------------------------------------\n"
    }
   ],
   "source": [
    "!python sanity_check.py 2a"
   ]
  },
  {
   "cell_type": "code",
   "execution_count": 7,
   "metadata": {},
   "outputs": [
    {
     "output_type": "stream",
     "name": "stdout",
     "text": "--------------------------------------------------------------------------------\nRunning Sanity Check for Question 2b: CharDecoder.train_forward()\n--------------------------------------------------------------------------------\nSanity Check Passed for Question 2b: CharDecoder.train_forward()!\n--------------------------------------------------------------------------------\n"
    }
   ],
   "source": [
    "!python sanity_check.py 2b"
   ]
  },
  {
   "cell_type": "code",
   "execution_count": 2,
   "metadata": {},
   "outputs": [
    {
     "output_type": "stream",
     "name": "stdout",
     "text": "--------------------------------------------------------------------------------\nRunning Sanity Check for Question 2c: CharDecoder.decode_greedy()\n--------------------------------------------------------------------------------\nSanity Check Passed for Question 2c: CharDecoder.decode_greedy()!\n--------------------------------------------------------------------------------\n"
    }
   ],
   "source": [
    "!python sanity_check.py 2c"
   ]
  }
 ],
 "metadata": {
  "kernelspec": {
   "display_name": "Python 3",
   "language": "python",
   "name": "python3"
  },
  "language_info": {
   "codemirror_mode": {
    "name": "ipython",
    "version": 3
   },
   "file_extension": ".py",
   "mimetype": "text/x-python",
   "name": "python",
   "nbconvert_exporter": "python",
   "pygments_lexer": "ipython3",
   "version": "3.7.4-final"
  }
 },
 "nbformat": 4,
 "nbformat_minor": 2
}