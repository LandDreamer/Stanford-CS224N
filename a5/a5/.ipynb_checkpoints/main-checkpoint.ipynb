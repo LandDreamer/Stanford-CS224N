{
 "cells": [
  {
   "cell_type": "code",
   "execution_count": 1,
   "metadata": {},
   "outputs": [
    {
     "name": "stdout",
     "output_type": "stream",
     "text": [
      "--------------------------------------------------------------------------------\n",
      "Running Sanity Check for Question 1e: To Input Tensor Char\n",
      "--------------------------------------------------------------------------------\n",
      "Running test on a list of sentences\n",
      "Sanity Check Passed for Question 1e: To Input Tensor Char!\n",
      "--------------------------------------------------------------------------------\n",
      "[nltk_data] Downloading package punkt to D:\\Anaconda\\lib\\nltk_data...\n",
      "[nltk_data]   Unzipping tokenizers\\punkt.zip.\n"
     ]
    }
   ],
   "source": [
    "!python sanity_check.py 1e"
   ]
  },
  {
   "cell_type": "code",
   "execution_count": 14,
   "metadata": {},
   "outputs": [
    {
     "name": "stdout",
     "output_type": "stream",
     "text": [
      "--------------------------------------------------------------------------------\n",
      "Running Sanity Check for Question 1h: Model Embedding\n",
      "--------------------------------------------------------------------------------\n",
      "Sanity Check Passed for Question 1h: Model Embedding!\n",
      "--------------------------------------------------------------------------------\n"
     ]
    }
   ],
   "source": [
    "!python sanity_check.py 1h"
   ]
  },
  {
   "cell_type": "code",
   "execution_count": 18,
   "metadata": {},
   "outputs": [
    {
     "name": "stdout",
     "output_type": "stream",
     "text": [
      "read in source sentences: ./en_es_data/train_tiny.es\n",
      "read in target sentences: ./en_es_data/train_tiny.en\n",
      "initialize source vocabulary ..\n",
      "number of word types: 129, number of word types w/ frequency >= 1: 129\n",
      "initialize target vocabulary ..\n",
      "number of word types: 130, number of word types w/ frequency >= 1: 130\n",
      "generated vocabulary, source 133 words, target 132 words\n",
      "vocabulary saved to vocab_tiny_q1.json\n",
      "read in source sentences: ./en_es_data/train_tiny.es\n",
      "read in target sentences: ./en_es_data/train_tiny.en\n",
      "initialize source vocabulary ..\n",
      "number of word types: 129, number of word types w/ frequency >= 2: 29\n",
      "initialize target vocabulary ..\n",
      "number of word types: 130, number of word types w/ frequency >= 2: 37\n",
      "generated vocabulary, source 33 words, target 39 words\n",
      "vocabulary saved to vocab_tiny_q2.json\n",
      "read in source sentences: ./en_es_data/train.es\n",
      "read in target sentences: ./en_es_data/train.en\n",
      "initialize source vocabulary ..\n",
      "number of word types: 93256, number of word types w/ frequency >= 2: 52653\n",
      "initialize target vocabulary ..\n",
      "number of word types: 67520, number of word types w/ frequency >= 2: 39780\n",
      "generated vocabulary, source 50004 words, target 39782 words\n",
      "vocabulary saved to vocab.json\n"
     ]
    }
   ],
   "source": [
    "# !sh run.sh vocab\n",
    "!python vocab.py --train-src=./en_es_data/train_tiny.es --train-tgt=./en_es_data/train_tiny.en \\\n",
    "        --size=200 --freq-cutoff=1 vocab_tiny_q1.json\n",
    "!python vocab.py --train-src=./en_es_data/train_tiny.es --train-tgt=./en_es_data/train_tiny.en \\\n",
    "        vocab_tiny_q2.json\n",
    "!python vocab.py --train-src=./en_es_data/train.es --train-tgt=./en_es_data/train.en vocab.json"
   ]
  },
  {
   "cell_type": "code",
   "execution_count": null,
   "metadata": {},
   "outputs": [],
   "source": [
    "# !sh run.sh train_local_q1\n",
    "!python run.py train --train-src=./en_es_data/train_tiny.es --train-tgt=./en_es_data/train_tiny.en \\\n",
    "        --dev-src=./en_es_data/dev_tiny.es --dev-tgt=./en_es_data/dev_tiny.en --vocab=vocab_tiny_q1.json --batch-size=2 \\\n",
    "        --valid-niter=100 --max-epoch=101 --no-char-decoder"
   ]
  },
  {
   "cell_type": "code",
   "execution_count": null,
   "metadata": {},
   "outputs": [],
   "source": []
  },
  {
   "cell_type": "code",
   "execution_count": null,
   "metadata": {},
   "outputs": [],
   "source": []
  }
 ],
 "metadata": {
  "kernelspec": {
   "display_name": "Python 3",
   "language": "python",
   "name": "python3"
  },
  "language_info": {
   "codemirror_mode": {
    "name": "ipython",
    "version": 3
   },
   "file_extension": ".py",
   "mimetype": "text/x-python",
   "name": "python",
   "nbconvert_exporter": "python",
   "pygments_lexer": "ipython3",
   "version": "3.7.4"
  }
 },
 "nbformat": 4,
 "nbformat_minor": 2
}
